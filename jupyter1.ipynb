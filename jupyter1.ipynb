{
 "cells": [
  {
   "cell_type": "code",
   "execution_count": 1,
   "id": "9f0420b1",
   "metadata": {},
   "outputs": [
    {
     "name": "stdout",
     "output_type": "stream",
     "text": [
      "hello\n"
     ]
    }
   ],
   "source": [
    "print(\"hello\")"
   ]
  },
  {
   "cell_type": "code",
   "execution_count": 2,
   "id": "611ceffe",
   "metadata": {},
   "outputs": [],
   "source": [
    "import pandas as pd"
   ]
  },
  {
   "cell_type": "code",
   "execution_count": 3,
   "id": "1f5ee322",
   "metadata": {},
   "outputs": [],
   "source": [
    "import numpy as np"
   ]
  },
  {
   "cell_type": "code",
   "execution_count": 4,
   "id": "6ff10e09",
   "metadata": {},
   "outputs": [
    {
     "data": {
      "text/plain": [
       "'/Users/deepakverma/Desktop/DataScience/movie_app'"
      ]
     },
     "execution_count": 4,
     "metadata": {},
     "output_type": "execute_result"
    }
   ],
   "source": [
    "pwd"
   ]
  },
  {
   "cell_type": "code",
   "execution_count": 5,
   "id": "897623ff",
   "metadata": {},
   "outputs": [],
   "source": [
    "import difflib\n",
    "# for convert text to numerical feature vector\n",
    "from sklearn.feature_extraction.text import TfidfVectorizer\n",
    "from sklearn.metrics.pairwise import cosine_similarity"
   ]
  },
  {
   "cell_type": "code",
   "execution_count": 6,
   "id": "053ea635",
   "metadata": {},
   "outputs": [],
   "source": [
    "movies_data = pd.read_csv('/Users/deepakverma/Desktop/DataScience/movies.csv', index_col = 'index')"
   ]
  },
  {
   "cell_type": "code",
   "execution_count": 8,
   "id": "1899f660",
   "metadata": {},
   "outputs": [],
   "source": [
    "selected_features = ['genres','keywords','tagline','vote_average','cast','director','overview']"
   ]
  },
  {
   "cell_type": "code",
   "execution_count": 9,
   "id": "60e4e109",
   "metadata": {},
   "outputs": [],
   "source": [
    "#replacing null values with null string\n",
    "for feature in selected_features:\n",
    "  movies_data[feature]=movies_data[feature].fillna('')"
   ]
  },
  {
   "cell_type": "code",
   "execution_count": 10,
   "id": "5acc17b1",
   "metadata": {},
   "outputs": [],
   "source": [
    "combined_features = movies_data['genres']+movies_data['keywords']+movies_data['tagline']+movies_data['cast']+movies_data['director']+movies_data['overview']\n",
    "features=pd.DataFrame(combined_features)\n",
    "features.columns=['text']"
   ]
  },
  {
   "cell_type": "code",
   "execution_count": 11,
   "id": "552c8d4f",
   "metadata": {},
   "outputs": [],
   "source": [
    "#combining text data to feature vectors\n",
    "vectorizer = TfidfVectorizer()\n",
    "# can use Series 'combined_features' as well\n",
    "feature_vector = vectorizer.fit_transform(features['text'])\n",
    "# print(feature_vector)\n",
    "\n",
    "similarity = cosine_similarity(feature_vector)\n",
    "# print(similarity)"
   ]
  },
  {
   "cell_type": "code",
   "execution_count": 15,
   "id": "8390eea1",
   "metadata": {},
   "outputs": [
    {
     "name": "stdout",
     "output_type": "stream",
     "text": [
      "['Avatar', \"Pirates of the Caribbean: At World's End\", 'Spectre', 'The Dark Knight Rises', 'John Carter']\n"
     ]
    }
   ],
   "source": [
    "#movie name list present in our Dataset\n",
    "list_of_all_titles = movies_data['title'].tolist()\n",
    "# print movie titles\n",
    "print(list_of_all_titles[:5])"
   ]
  },
  {
   "cell_type": "code",
   "execution_count": 16,
   "id": "ae40367c",
   "metadata": {},
   "outputs": [],
   "source": [
    "def collabRecommendation(movie_name, total):\n",
    "  try:\n",
    "    #movie name list present in our Dataset\n",
    "    find_close_match = difflib.get_close_matches(movie_name,list_of_all_titles)\n",
    "    close_match = find_close_match[0]\n",
    "\n",
    "    # finding index of close_match in movies_data\n",
    "    index = movies_data[movies_data.title==close_match].index.values[0]\n",
    "\n",
    "    df1= pd.DataFrame(similarity[index], columns=['similarity']) #DataFrame\n",
    "    df2 = pd.DataFrame(movies_data.title) #DataFrame\n",
    "    df2.columns=['movieName']\n",
    "\n",
    "    df = pd.concat([df1 , df2], axis=1)\n",
    "\n",
    "    # sorting movies based on similarity score with close_match\n",
    "    df = df.sort_values(by=['similarity'], ascending=False)\n",
    "\n",
    "    # printing name of the similar movies using index from the similarity score\n",
    "    print('top ', total, ' movies suggested for you are : ')\n",
    "    \n",
    "    df = df.movieName[:total]\n",
    "    for movie in df:\n",
    "      print(movie)\n",
    "\n",
    "    # print(df.movieName.to_string(index=False))\n",
    "    # print(df)\n",
    "  except:\n",
    "    print(\"atleast enter 1 recommendation\")"
   ]
  },
  {
   "cell_type": "code",
   "execution_count": 18,
   "id": "d3f15663",
   "metadata": {},
   "outputs": [
    {
     "name": "stdout",
     "output_type": "stream",
     "text": [
      "enter your fav movie name : batman\n",
      "recommendations req : 5\n",
      "top  5  movies suggested for you are : \n",
      "Batman\n",
      "Batman Begins\n",
      "Batman & Robin\n",
      "The Dark Knight Rises\n",
      "Batman Returns\n"
     ]
    }
   ],
   "source": [
    "#user movie name and recommendation req input\n",
    "movie_name = input('enter your fav movie name : ')\n",
    "total = int(input('recommendations req : '))\n",
    "collabRecommendation(movie_name, total)"
   ]
  },
  {
   "cell_type": "code",
   "execution_count": 19,
   "id": "98a9fc44",
   "metadata": {},
   "outputs": [],
   "source": [
    "def bestRatingNMovies(total):\n",
    "  try:\n",
    "    movieN = movies_data[['title','vote_average']]\n",
    "    # Sorting by column 'vote_average' descending\n",
    "    movieN = movieN.sort_values(by=['vote_average'], ascending=False)\n",
    "    movieN = movieN[:total]\n",
    "    # movieN = movieN[['title','vote_average']]\n",
    "    print('top ', total, ' movies suggested for you are : ')\n",
    "    # print(movieN.to_string(index=False))\n",
    "    print(movieN)\n",
    "  except:\n",
    "    print(\"atleast enter 1 recommendation\")"
   ]
  },
  {
   "cell_type": "code",
   "execution_count": 21,
   "id": "c0d77076",
   "metadata": {},
   "outputs": [
    {
     "name": "stdout",
     "output_type": "stream",
     "text": [
      "number of top rated movie recommendations req : 7\n",
      "top  7  movies suggested for you are : \n",
      "                       title  vote_average\n",
      "index                                     \n",
      "3519        Stiff Upper Lips          10.0\n",
      "4247   Me You and Five Bucks          10.0\n",
      "4045   Dancer, Texas Pop. 81          10.0\n",
      "4662          Little Big Top          10.0\n",
      "3992               Sardaarji           9.5\n",
      "2386          One Man's Hero           9.3\n",
      "2970      There Goes My Baby           8.5\n"
     ]
    }
   ],
   "source": [
    "#user choice for N most rated movies\n",
    "total = int(input('number of top rated movie recommendations req : '))\n",
    "\n",
    "bestRatingNMovies(total)"
   ]
  },
  {
   "cell_type": "code",
   "execution_count": null,
   "id": "4cfe7fc9",
   "metadata": {},
   "outputs": [],
   "source": []
  }
 ],
 "metadata": {
  "kernelspec": {
   "display_name": "Python 3 (ipykernel)",
   "language": "python",
   "name": "python3"
  },
  "language_info": {
   "codemirror_mode": {
    "name": "ipython",
    "version": 3
   },
   "file_extension": ".py",
   "mimetype": "text/x-python",
   "name": "python",
   "nbconvert_exporter": "python",
   "pygments_lexer": "ipython3",
   "version": "3.9.12"
  }
 },
 "nbformat": 4,
 "nbformat_minor": 5
}
